{
 "cells": [
  {
   "cell_type": "markdown",
   "source": [
    "#### 形态学——腐蚀操作\n",
    " - 一般在二值的图像数据上使用"
   ],
   "metadata": {
    "collapsed": false
   }
  },
  {
   "cell_type": "code",
   "execution_count": 70,
   "outputs": [],
   "source": [
    "import cv2\n",
    "import numpy as np\n",
    "import matplotlib.pyplot as plt\n",
    "%matplotlib inline"
   ],
   "metadata": {
    "collapsed": false,
    "pycharm": {
     "name": "#%%\n",
     "is_executing": false
    }
   }
  },
  {
   "cell_type": "code",
   "execution_count": 71,
   "outputs": [],
   "source": [
    "fourteen = cv2.imread('images/fourteen.jpg')\n",
    "cv2.imshow('fourteen',fourteen)\n",
    "cv2.waitKey(0)\n",
    "cv2.destroyAllWindows()"
   ],
   "metadata": {
    "collapsed": false,
    "pycharm": {
     "name": "#%%\n",
     "is_executing": false
    }
   }
  },
  {
   "cell_type": "code",
   "execution_count": 72,
   "outputs": [],
   "source": [
    "kernel = np.ones((5,5),np.uint8)\n",
    "erosion = cv2.erode(fourteen,kernel,iterations=1)\n",
    "cv2.imshow('fourteen',erosion)\n",
    "cv2.waitKey(0)\n",
    "cv2.destroyAllWindows()"
   ],
   "metadata": {
    "collapsed": false,
    "pycharm": {
     "name": "#%%\n",
     "is_executing": false
    }
   }
  },
  {
   "cell_type": "code",
   "execution_count": 73,
   "outputs": [],
   "source": [
    "pie = cv2.imread('images/pie.jpg')\n",
    "pie = cv2.resize(pie,(0,0),fx=0.5,fy=0.5)\n",
    "cv2.imshow('pie',pie)\n",
    "cv2.waitKey(0)\n",
    "cv2.destroyAllWindows()"
   ],
   "metadata": {
    "collapsed": false,
    "pycharm": {
     "name": "#%%\n",
     "is_executing": false
    }
   }
  },
  {
   "cell_type": "code",
   "execution_count": 74,
   "outputs": [],
   "source": [
    "kernel = np.ones((30,30),np.uint8)\n",
    "pie_1 = cv2.erode(pie,kernel,iterations=1)\n",
    "pie_2 = cv2.erode(pie,kernel,iterations=2)\n",
    "pie_3 = cv2.erode(pie,kernel,iterations=3)\n",
    "\n",
    "pie_all = np.hstack((pie_1,pie_2,pie_3))\n",
    "cv2.imshow('pieall',pie_all)\n",
    "cv2.waitKey(0)\n",
    "cv2.destroyAllWindows()"
   ],
   "metadata": {
    "collapsed": false,
    "pycharm": {
     "name": "#%%\n",
     "is_executing": false
    }
   }
  },
  {
   "cell_type": "markdown",
   "source": [
    "#### 形态学——膨胀操作\n",
    "#### 膨胀操作相当于腐蚀操作的逆运算"
   ],
   "metadata": {
    "collapsed": false
   }
  },
  {
   "cell_type": "code",
   "execution_count": 75,
   "outputs": [],
   "source": [
    "kernel = np.ones((5,5),np.uint8)\n",
    "four_erode = cv2.erode(fourteen,kernel,iterations=1)\n",
    "\n",
    "cv2.imshow('four_erode',four_erode)\n",
    "cv2.waitKey(0)\n",
    "cv2.destroyAllWindows()"
   ],
   "metadata": {
    "collapsed": false,
    "pycharm": {
     "name": "#%%\n",
     "is_executing": false
    }
   }
  },
  {
   "cell_type": "code",
   "execution_count": 76,
   "outputs": [],
   "source": [
    "# 腐蚀操作可能会对原始图像进行一些损耗，使用膨胀操作来进行恢复\n",
    "four_dilate = cv2.dilate(four_erode,kernel,iterations=1)\n",
    "\n",
    "cv2.imshow('four_dilate',four_dilate)\n",
    "cv2.waitKey(0)\n",
    "cv2.destroyAllWindows()"
   ],
   "metadata": {
    "collapsed": false,
    "pycharm": {
     "name": "#%%\n",
     "is_executing": false
    }
   }
  },
  {
   "cell_type": "code",
   "execution_count": 77,
   "outputs": [],
   "source": [
    "# 膨胀操作迭代次数进行对比\n",
    "kernel = np.ones((30,30),np.uint8)\n",
    "pie = cv2.imread('images/pie.jpg')\n",
    "pie = cv2.resize(pie,(0,0),fx=0.5,fy=0.5)\n",
    "\n",
    "pie_1 = cv2.dilate(pie,kernel,iterations=1)\n",
    "pie_2 = cv2.dilate(pie,kernel,iterations=2)\n",
    "pie_3 = cv2.dilate(pie,kernel,iterations=3)\n",
    "\n",
    "pie_all = np.hstack((pie_1,pie_2,pie_3))\n",
    "\n",
    "cv2.imshow('pie_dilate',pie_all)\n",
    "cv2.waitKey(0)\n",
    "cv2.destroyAllWindows()"
   ],
   "metadata": {
    "collapsed": false,
    "pycharm": {
     "name": "#%%\n",
     "is_executing": false
    }
   }
  },
  {
   "cell_type": "markdown",
   "source": [
    "#### 开运算和闭运算"
   ],
   "metadata": {
    "collapsed": false
   }
  },
  {
   "cell_type": "code",
   "execution_count": 78,
   "outputs": [],
   "source": [
    "# 开运算：先腐蚀后膨胀\n",
    "img = cv2.imread('images/fourteen.jpg')\n",
    "kernel = np.ones((5,5),np.uint8)\n",
    "\n",
    "opening = cv2.morphologyEx(img,cv2.MORPH_OPEN,kernel)\n",
    "cv2.imshow('open',opening)\n",
    "cv2.waitKey(0)\n",
    "cv2.destroyAllWindows()"
   ],
   "metadata": {
    "collapsed": false,
    "pycharm": {
     "name": "#%%\n",
     "is_executing": false
    }
   }
  },
  {
   "cell_type": "code",
   "execution_count": 79,
   "outputs": [],
   "source": [
    "# 闭运算：先膨胀后腐蚀\n",
    "img = cv2.imread('images/fourteen.jpg')\n",
    "kernel = np.ones((5,5),np.uint8)\n",
    "\n",
    "closing = cv2.morphologyEx(img,cv2.MORPH_CLOSE,kernel)\n",
    "cv2.imshow('close',closing)\n",
    "cv2.waitKey(0)\n",
    "cv2.destroyAllWindows()"
   ],
   "metadata": {
    "collapsed": false,
    "pycharm": {
     "name": "#%%\n",
     "is_executing": false
    }
   }
  },
  {
   "cell_type": "markdown",
   "source": [
    "#### 梯度运算\n",
    " - 梯度 = 膨胀 - 腐蚀"
   ],
   "metadata": {
    "collapsed": false
   }
  },
  {
   "cell_type": "code",
   "execution_count": 80,
   "outputs": [],
   "source": [
    "pie = cv2.imread('images/pie.jpg')\n",
    "kernel = np.ones((5,5),np.uint8)\n",
    "pie = cv2.resize(pie,(0,0),fx=0.6,fy=0.6)\n",
    "\n",
    "pie_erode = cv2.erode(pie,kernel,iterations=5)\n",
    "pie_dilate = cv2.dilate(pie,kernel,iterations=5)\n",
    "\n",
    "grad = pie_dilate - pie_erode\n",
    "img = np.hstack((pie_dilate,pie_erode,grad))\n",
    "cv2.imshow('img',img)\n",
    "cv2.waitKey(0)\n",
    "cv2.destroyAllWindows()"
   ],
   "metadata": {
    "collapsed": false,
    "pycharm": {
     "name": "#%%\n",
     "is_executing": false
    }
   }
  },
  {
   "cell_type": "code",
   "execution_count": 81,
   "outputs": [],
   "source": [
    "# cv2中自带了梯度运算的方法\n",
    "img = cv2.imread('images/pie.jpg')\n",
    "kernel = np.ones((5,5),np.uint8)\n",
    "\n",
    "res = cv2.morphologyEx(img,cv2.MORPH_GRADIENT,kernel)\n",
    "cv2.imshow('res',res)\n",
    "cv2.waitKey(0)\n",
    "cv2.destroyAllWindows()\n"
   ],
   "metadata": {
    "collapsed": false,
    "pycharm": {
     "name": "#%%\n",
     "is_executing": false
    }
   }
  },
  {
   "cell_type": "markdown",
   "source": [
    "#### 礼帽和黑帽\n",
    " - 礼帽：原始图像-开运算\n",
    " - 黑帽：闭运算-原始图像"
   ],
   "metadata": {
    "collapsed": false
   }
  },
  {
   "cell_type": "code",
   "execution_count": 82,
   "outputs": [],
   "source": [
    "# 礼帽\n",
    "img = cv2.imread('images/fourteen.jpg')\n",
    "kernel = np.ones((5,5),np.uint8)\n",
    "\n",
    "res = cv2.morphologyEx(img,cv2.MORPH_TOPHAT,kernel)\n",
    "cv2.imshow('res',res)\n",
    "cv2.waitKey(0)\n",
    "cv2.destroyAllWindows()"
   ],
   "metadata": {
    "collapsed": false,
    "pycharm": {
     "name": "#%%\n",
     "is_executing": false
    }
   }
  },
  {
   "cell_type": "code",
   "execution_count": 83,
   "outputs": [],
   "source": [
    "# 黑帽\n",
    "img = cv2.imread('images/fourteen.jpg')\n",
    "kernel = np.ones((5,5),np.uint8)\n",
    "\n",
    "res = cv2.morphologyEx(img,cv2.MORPH_BLACKHAT,kernel)\n",
    "cv2.imshow('res',res)\n",
    "cv2.waitKey(0)\n",
    "cv2.destroyAllWindows()\n"
   ],
   "metadata": {
    "collapsed": false,
    "pycharm": {
     "name": "#%%\n",
     "is_executing": false
    }
   }
  }
 ],
 "metadata": {
  "kernelspec": {
   "display_name": "Python 3",
   "language": "python",
   "name": "python3"
  },
  "language_info": {
   "codemirror_mode": {
    "name": "ipython",
    "version": 2
   },
   "file_extension": ".py",
   "mimetype": "text/x-python",
   "name": "python",
   "nbconvert_exporter": "python",
   "pygments_lexer": "ipython2",
   "version": "2.7.6"
  },
  "pycharm": {
   "stem_cell": {
    "cell_type": "raw",
    "source": [],
    "metadata": {
     "collapsed": false
    }
   }
  }
 },
 "nbformat": 4,
 "nbformat_minor": 0
}