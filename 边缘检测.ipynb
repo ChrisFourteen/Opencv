{
 "cells": [
  {
   "cell_type": "markdown",
   "metadata": {
    "collapsed": true,
    "pycharm": {
     "name": "#%% md\n"
    }
   },
   "source": [
    "#### Canny 边缘检测\n",
    " - 1) 使用高斯滤波器，以平滑图像，滤除噪声\n",
    " - 2) 计算图像中每个像素点的梯度强度和方向\n",
    " - 3) 应用非极大值抑制(Non-Maximum Suppression)，以消除边缘检测带来的杂散响应\n",
    " - 4) 应用双阈值(Double-Threshold)检测来确定真实和潜在的边缘\n",
    " - 5) 通过抑制鼓励的弱边缘最终完成边缘检测\n",
    "\n",
    "###### 1、高斯滤波器  <-- 这里进行了归一化处理\n",
    "![avatar](./images/Gussian.jpg) \n",
    "###### 2、梯度和方向 (sobel算子)\n",
    "![avatar](./images/grand.jpg)\n",
    "###### 3、非极大值抑制 \n",
    "![avatar](./images/feijidazhiyizhi.jpg)\n",
    "![avatar](./images/feijidazhiyizhi2.jpg)\n",
    "###### 4、双阈值检测\n",
    "![avatar](./images/doublethreshold.jpg)"
   ]
  },
  {
   "cell_type": "code",
   "execution_count": 2,
   "outputs": [],
   "source": [
    "import cv2\n",
    "import matplotlib.pyplot as plt\n",
    "import numpy as np\n",
    "%matplotlib inline"
   ],
   "metadata": {
    "collapsed": false,
    "pycharm": {
     "name": "#%%\n",
     "is_executing": false
    }
   }
  },
  {
   "cell_type": "code",
   "execution_count": 10,
   "outputs": [],
   "source": [
    "img = cv2.imread('images/lena.jpg',cv2.IMREAD_GRAYSCALE)\n",
    "v1 = cv2.Canny(img,80,150)\n",
    "v2 = cv2.Canny(img,80,100)\n",
    "\n",
    "res = np.hstack([img,v1,v2])\n",
    "cv2.imshow('canny',res)\n",
    "cv2.waitKey(0)\n",
    "cv2.destroyAllWindows()"
   ],
   "metadata": {
    "collapsed": false,
    "pycharm": {
     "name": "#%%\n",
     "is_executing": false
    }
   }
  },
  {
   "cell_type": "code",
   "execution_count": 8,
   "outputs": [],
   "source": [
    "cat = cv2.imread('images/cat.82.jpg',cv2.IMREAD_GRAYSCALE)\n",
    "v1 = cv2.Canny(cat,120,250)\n",
    "v2 = cv2.Canny(cat,50,100)\n",
    "\n",
    "res = np.hstack((cat,v1,v2))\n",
    "cv2.imshow('cat',res)\n",
    "cv2.waitKey(0)\n",
    "cv2.destroyAllWindows()\n",
    "\n"
   ],
   "metadata": {
    "collapsed": false,
    "pycharm": {
     "name": "#%%\n",
     "is_executing": false
    }
   }
  }
 ],
 "metadata": {
  "kernelspec": {
   "display_name": "Python 3",
   "language": "python",
   "name": "python3"
  },
  "language_info": {
   "codemirror_mode": {
    "name": "ipython",
    "version": 2
   },
   "file_extension": ".py",
   "mimetype": "text/x-python",
   "name": "python",
   "nbconvert_exporter": "python",
   "pygments_lexer": "ipython2",
   "version": "2.7.6"
  },
  "pycharm": {
   "stem_cell": {
    "cell_type": "raw",
    "source": [],
    "metadata": {
     "collapsed": false
    }
   }
  }
 },
 "nbformat": 4,
 "nbformat_minor": 0
}