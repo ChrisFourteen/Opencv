{
 "cells": [
  {
   "cell_type": "code",
   "execution_count": 90,
   "metadata": {
    "collapsed": true,
    "pycharm": {
     "name": "#%%\n",
     "is_executing": false
    }
   },
   "outputs": [],
   "source": [
    "import numpy as np\n",
    "import cv2\n",
    "from imutils import contours\n",
    "from imutils import contours\n",
    "import imutils\n",
    "import myutils"
   ]
  },
  {
   "cell_type": "code",
   "execution_count": 91,
   "outputs": [],
   "source": [
    "# 指定输入图像和模板\n",
    "input_img = cv2.imread('images/creditcard_identify/bestbut_3.jpg')\n",
    "template = cv2.imread('images/creditcard_identify/digitjpg.jpg')"
   ],
   "metadata": {
    "collapsed": false,
    "pycharm": {
     "name": "#%%\n",
     "is_executing": false
    }
   }
  },
  {
   "cell_type": "code",
   "execution_count": 92,
   "outputs": [],
   "source": [
    "# 指定信用卡类型\n",
    "\n",
    "FIRST_NUMBER = {\n",
    "    '3':'American Express',\n",
    "    '4':'Visa',\n",
    "    '5':'MasterCard',\n",
    "    '6':'Discover Card'\n",
    "}"
   ],
   "metadata": {
    "collapsed": false,
    "pycharm": {
     "name": "#%%\n",
     "is_executing": false
    }
   }
  },
  {
   "cell_type": "code",
   "execution_count": 93,
   "outputs": [],
   "source": [
    "# 绘图显示\n",
    "def cv_show(name,img):\n",
    "    cv2.imshow(name,img)\n",
    "    cv2.waitKey(0)\n",
    "    cv2.destroyAllWindows()"
   ],
   "metadata": {
    "collapsed": false,
    "pycharm": {
     "name": "#%%\n",
     "is_executing": false
    }
   }
  },
  {
   "cell_type": "code",
   "execution_count": 94,
   "outputs": [],
   "source": [
    "# 显示模板\n",
    "cv_show('template',template)\n",
    "# 对模板进行灰度转换\n",
    "ref = cv2.cvtColor(template,cv2.COLOR_BGR2GRAY)\n",
    "cv_show('ref',ref)\n",
    "# 对模板进行二值化\n",
    "# 做轮廓检测时，输入的都是二值图像\n",
    "# cv2.threshold()返回两个值，其中第二个参数是二值化结果\n",
    "# cv2.threshold()参数：输入图像,阈值，超过阈值后赋予的值，二值化方法\n",
    "# 超过10的取0，否则取255\n",
    "ref = cv2.threshold(ref,15,255,cv2.THRESH_BINARY_INV)[1]\n",
    "cv_show('ref',ref)"
   ],
   "metadata": {
    "collapsed": false,
    "pycharm": {
     "name": "#%%\n",
     "is_executing": false
    }
   }
  },
  {
   "cell_type": "code",
   "execution_count": 95,
   "outputs": [],
   "source": [
    "# 轮廓检测\n",
    "refCnts,hiearchy = cv2.findContours(ref,cv2.RETR_EXTERNAL,cv2.CHAIN_APPROX_SIMPLE)"
   ],
   "metadata": {
    "collapsed": false,
    "pycharm": {
     "name": "#%%\n",
     "is_executing": false
    }
   }
  },
  {
   "cell_type": "code",
   "execution_count": 96,
   "outputs": [
    {
     "name": "stdout",
     "text": [
      "(10,)\n"
     ],
     "output_type": "stream"
    }
   ],
   "source": [
    "# 画出轮廓\n",
    "# 踩坑！ 这里一定不能在二值化后的图像上画轮廓，要copy原图然后画轮廓\n",
    "ref_draw = template.copy()\n",
    "cv2.drawContours(ref_draw,refCnts,-1,(0,0,255),2)\n",
    "cv_show('ref_draw',ref_draw)\n",
    "print(np.array(refCnts).shape)\n",
    "# 对轮廓进行排序\n",
    "refCnts = contours.sort_contours(refCnts,method='left-to-right')[0]\n",
    "digits = {}\n",
    "for (i,c) in enumerate(refCnts):\n",
    "    (x,y,w,h) = cv2.boundingRect(c)\n",
    "    roi = ref[y:y+h,x:x+w]\n",
    "    roi = cv2.resize(roi,(57,88)) \n",
    "    # 计算外接矩形并且resize成合适大小\n",
    "    digits[i] = roi\n",
    "for i in range(len(digits)):\n",
    "    cv_show('digits',digits[i])"
   ],
   "metadata": {
    "collapsed": false,
    "pycharm": {
     "name": "#%%\n",
     "is_executing": false
    }
   }
  },
  {
   "cell_type": "code",
   "execution_count": 97,
   "outputs": [],
   "source": [
    "# 对输入图像进行处理\n",
    "# 初始化卷积核\n",
    "rectKernel = cv2.getStructuringElement(cv2.MORPH_RECT,(9,3))\n",
    "sqKernel = cv2.getStructuringElement(cv2.MORPH_RECT,(5,5))\n",
    "\n",
    "# 读取输入图像，预处理\n",
    "cv_show('img',input_img)\n",
    "input_img = imutils.resize(input_img,width=300)\n",
    "cv_show('img',input_img)\n",
    "gray = cv2.cvtColor(input_img,cv2.COLOR_BGR2GRAY)\n",
    "cv_show('gray',gray)"
   ],
   "metadata": {
    "collapsed": false,
    "pycharm": {
     "name": "#%%\n",
     "is_executing": false
    }
   }
  },
  {
   "cell_type": "code",
   "execution_count": 98,
   "outputs": [
    {
     "name": "stderr",
     "text": [
      "c:\\users\\mrchan.000\\appdata\\local\\programs\\python\\python37\\lib\\site-packages\\ipykernel_launcher.py:12: RuntimeWarning: divide by zero encountered in true_divide\n",
      "  if sys.path[0] == '':\n"
     ],
     "output_type": "stream"
    }
   ],
   "source": [
    "# 礼帽操作，突出更明亮的区域\n",
    "tophat = cv2.morphologyEx(gray,cv2.MORPH_TOPHAT,rectKernel)\n",
    "cv_show('tophat',tophat)\n",
    "\n",
    "# sobel算子\n",
    "gradX = cv2.Sobel(tophat,ddepth=cv2.CV_32F,dx=1,dy=0,ksize=3)  # ksize=-1相当于用3*3的核\n",
    "gradX = np.absolute(gradX)\n",
    "# gradY = cv2.Sobel(tophat,ddepth=cv2.CV_32F,dx=0,dy=1,ksize=-1)\n",
    "# gradY = np.absolute(gradY)\n",
    "# grad = cv2.addWeighted(gradX,0.5,gradY,0.5,0)\n",
    "(minVal,maxVal) = (np.min(gradX),np.max(gradX))\n",
    "gradX = (255 * ((gradX-minVal) / (maxVal - gradX)))\n",
    "gradX = gradX.astype(\"uint8\")\n",
    "cv_show('gradX',gradX)"
   ],
   "metadata": {
    "collapsed": false,
    "pycharm": {
     "name": "#%%\n",
     "is_executing": false
    }
   }
  },
  {
   "cell_type": "code",
   "execution_count": 99,
   "outputs": [],
   "source": [
    "# 闭操作：先膨胀，再腐蚀\n",
    "gradX = cv2.morphologyEx(gradX,cv2.MORPH_CLOSE,rectKernel)\n",
    "cv_show('gradX',gradX)\n",
    "\n",
    "# 二值化处理\n",
    "thresh = cv2.threshold(gradX,0,255,\n",
    "        cv2.THRESH_BINARY | cv2.THRESH_OTSU)[1]\n",
    "cv_show('THRESH',thresh)\n",
    "\n",
    "thresh = cv2.morphologyEx(thresh,cv2.MORPH_CLOSE,sqKernel)\n",
    "cv_show('thresh',thresh)"
   ],
   "metadata": {
    "collapsed": false,
    "pycharm": {
     "name": "#%%\n",
     "is_executing": false
    }
   }
  },
  {
   "cell_type": "code",
   "execution_count": 100,
   "outputs": [],
   "source": [
    "# 轮廓检测\n",
    "threshCnt,_h = cv2.findContours(thresh.copy(),cv2.RETR_EXTERNAL,cv2.CHAIN_APPROX_SIMPLE)\n",
    "\n",
    "cnts = threshCnt\n",
    "\n",
    "cur_img = input_img.copy()\n",
    "cv2.drawContours(cur_img,cnts,-1,(0,0,255),2)\n",
    "cv_show('cur_img',cur_img)"
   ],
   "metadata": {
    "collapsed": false,
    "pycharm": {
     "name": "#%%\n",
     "is_executing": false
    }
   }
  },
  {
   "cell_type": "code",
   "execution_count": 104,
   "outputs": [],
   "source": [
    "locs = []\n",
    "for (i,c) in enumerate(cnts):\n",
    "    (x,y,w,h) = cv2.boundingRect(c)\n",
    "    ar = w / float(h)\n",
    "    # 选择合适的区域\n",
    "    if ar > 2.5 and ar < 4.0:\n",
    "        if(w > 40 and w < 55) and (h > 10 and h < 20):\n",
    "            # 符合的留下来\n",
    "            locs.append((x,y,w,h))\n",
    "locs = sorted(locs,key=lambda x:x[0])\n",
    "output = []  "
   ],
   "metadata": {
    "collapsed": false,
    "pycharm": {
     "name": "#%%\n",
     "is_executing": false
    }
   }
  },
  {
   "cell_type": "code",
   "execution_count": null,
   "outputs": [],
   "source": [
    "\n",
    "for (i,(gX,gY,gW,gH)) in enumerate(locs):\n",
    "    groupOutput = []   \n",
    "    group = gray[gY -5:gY +gH +5,gX - 5:gX +gW + 5]\n",
    "    cv_show('group',group)\n",
    "    group = cv2.threshold(group,0,255,\n",
    "                          cv2.THRESH_BINARY | cv2.THRESH_OTSU)[1]\n",
    "    cv_show('group',group)\n",
    "    \n",
    "    # 计算每一组的轮廓\n",
    "    digitCnts,_h = cv2.findContours(group.copy(),cv2.RETR_EXTERNAL,cv2.CHAIN_APPROX_SIMPLE)\n",
    "    digitCnts = contours.sort_contours(digitCnts,method='left-to-right')[0]\n",
    "    for c in digitCnts:\n",
    "        (x,y,w,h) = cv2.boundingRect(c)\n",
    "        print(x,y,w,h)   \n",
    "        roi = group[y:y+h,x:x+w]\n",
    "        roi = cv2.resize(roi,(57,88))\n",
    "        cv_show('roi',roi)\n",
    "        \n",
    "        scores = []\n",
    "        \n",
    "        for (digit,digitRIO) in digits.items():\n",
    "            result = cv2.matchTemplate(roi,digitRIO,cv2.TM_CCOEFF)\n",
    "            (_,score,_,_) = cv2.minMaxLoc(result)\n",
    "            scores.append(score) \n",
    "        \n",
    "        groupOutput.append(str(np.argmax(scores)))\n",
    "        \n",
    "        cv2.rectangle(input_img,(gX-5,gY-5),(gX +gW +5,gY +gH +5),(0,0,255),1)\n",
    "        cv2.putText(input_img,''.join(groupOutput),(gX,gY -15),cv2.FONT_HERSHEY_SIMPLEX,0.65,(0,0,255),2)\n",
    "        \n",
    "        output.extend(groupOutput)"
   ],
   "metadata": {
    "collapsed": false,
    "pycharm": {
     "name": "#%%\n",
     "is_executing": true
    }
   }
  },
  {
   "cell_type": "code",
   "execution_count": 103,
   "outputs": [],
   "source": [
    "cv2.imshow('Image',input_img)\n"
   ],
   "metadata": {
    "collapsed": false,
    "pycharm": {
     "name": "#%%\n",
     "is_executing": false
    }
   }
  }
 ],
 "metadata": {
  "kernelspec": {
   "display_name": "Python 3",
   "language": "python",
   "name": "python3"
  },
  "language_info": {
   "codemirror_mode": {
    "name": "ipython",
    "version": 2
   },
   "file_extension": ".py",
   "mimetype": "text/x-python",
   "name": "python",
   "nbconvert_exporter": "python",
   "pygments_lexer": "ipython2",
   "version": "2.7.6"
  },
  "pycharm": {
   "stem_cell": {
    "cell_type": "raw",
    "source": [],
    "metadata": {
     "collapsed": false
    }
   }
  }
 },
 "nbformat": 4,
 "nbformat_minor": 0
}